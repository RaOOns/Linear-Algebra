{
  "nbformat": 4,
  "nbformat_minor": 0,
  "metadata": {
    "colab": {
      "name": "Chapter 1 Matrix and Gaussian Elimination.ipynb",
      "provenance": [],
      "collapsed_sections": [],
      "toc_visible": true,
      "authorship_tag": "ABX9TyObgLpUmqlIF72J7PbJXg+X",
      "include_colab_link": true
    },
    "kernelspec": {
      "name": "python3",
      "display_name": "Python 3"
    },
    "language_info": {
      "name": "python"
    }
  },
  "cells": [
    {
      "cell_type": "markdown",
      "metadata": {
        "id": "view-in-github",
        "colab_type": "text"
      },
      "source": [
        "<a href=\"https://colab.research.google.com/github/dhguslee/Linear-Algebra/blob/main/Chapter_1.%20Matrix%20and%20Gaussian-Elimination.ipynb\" target=\"_parent\"><img src=\"https://colab.research.google.com/assets/colab-badge.svg\" alt=\"Open In Colab\"/></a>"
      ]
    },
    {
      "cell_type": "markdown",
      "metadata": {
        "id": "C4ivXpKHDVka"
      },
      "source": [
        "# **Chapter 1 - Matrix and Gaussian Elimination**\n"
      ]
    },
    {
      "cell_type": "markdown",
      "metadata": {
        "id": "p2rNrx_DDnBo"
      },
      "source": [
        "## **I. 선형성 정의 및 1차 연립방정식의 의미**\n",
        "---"
      ]
    },
    {
      "cell_type": "markdown",
      "metadata": {
        "id": "5O1HytqEDssO"
      },
      "source": [
        "### **1. Linearity**　\n",
        "  \n",
        "- f(x) 즉 함수(function) 또는 연산(operation)이 선형성을 갖는지를 확인해야 한다.\n",
        "\n",
        "\n",
        "- 선형성의 조건은 다음과 같다.\n",
        "    \n",
        "  - Superposition　→　\n",
        " $f(x_1 + x_2)$ = $f(x_1)$ + $f(x_2)$\n",
        "\n",
        "  - Homogeneity　→　$f(ax)$ = $af(x)$\n",
        "\n",
        "  　　　→ 위 두 조건을 합쳐 $f(a_1x_1 + a_2x_2) = a_1f(x_1) + a_2 f(x_2)$로 표현 가능하며, \n",
        "    　　　　$f(\\sum_{k=1}^na_kx_k) = \\sum_{k=1}^na_kf(x_k)$로 일반화 가능.\n",
        "\n"
      ]
    },
    {
      "cell_type": "markdown",
      "metadata": {
        "id": "mSgN40ZnKGWR"
      },
      "source": [
        "### **2. Example**\n",
        "- $y = mx + n$　→　 $n = 0\\ \\ \\&\\ \\  m \\ne 0$ : (반드시) **원점**을 지나는 직선 \n",
        "  - 원점을 지나지 않으면 위 조건이 성립하지 않는다. \n",
        "$m(a_1x_1 + a_2x_2) + n \\ne a_1(mx_1 + n) + a_2(mx_2 +n)$ \n",
        "$△x, △y$의 변화량 (= 기울기)는 선형적이다. 라고는 표현 가능.\n",
        "\n",
        "\n",
        "- Differentiation (미분) 　→　${d \\over dt}(a_1x_1(t) + a_2x_2(t))$ = $a_1{d \\over dt}x_1(t) + a_2{d \\over dt}x_2(t)$ \n",
        "\n",
        "\n",
        "- Intergration (적분) 　→　$\\int (a_1x_1(t) + a_2x_2(t)) dt$ = $a_1\\int x_1(t)dt + a_2\\int x_2(t)t$\n",
        "\n",
        "\n",
        "- Matrix and vector operation (multiplication)　→　$A(a_1X_1 + a_2X_2)$ = $a_1AX_1 + a_2AX_2$"
      ]
    },
    {
      "cell_type": "markdown",
      "metadata": {
        "id": "ULsbSwFjKm2D"
      },
      "source": [
        "### **3. Linear Combinations (선형 결합)**\n",
        "  \n",
        "- $\\alpha v + \\beta w$　,　\"$v, w$\" are vectors\n",
        "\n",
        "\n",
        "- $\\begin{bmatrix} a_1 & a_2 \\\\ b_1 & b_2 \\\\ c_1 & c_2 \\end{bmatrix}$ $\\begin{bmatrix} \\alpha \\\\ \\beta \\end{bmatrix}$  = $\\alpha \\begin{bmatrix} a_1 \\\\ b_1 \\\\ c_1 \\end{bmatrix}$  + $\\beta \\begin{bmatrix} a_2 \\\\ b_2 \\\\ c_2 \\end{bmatrix}$ \n",
        "\n",
        "\n",
        "- **Matrix의 성질**\n",
        "  - $A ± B$\n",
        "  - $AB ≠ BA$\n",
        "  - $AI = IA = A 　,　(I = E)$\n",
        "  - $AA^{-1} = A^{-1}A = I$\n",
        "  - $\\begin{bmatrix} a & b \\\\ c & d \\end{bmatrix}$　→　$A^{-1} = {1 \\over ad-bc}\\begin{bmatrix} d & -b \\\\ -c & a \\end{bmatrix}$\n",
        "\n",
        "\n",
        "\n",
        "- **Vector**\n",
        "  - vector의 경우 columns vector 형태로 표기한다. \n",
        "　$v = (a, b, c)^T = \\begin{bmatrix} a \\\\ b \\\\ c \\end{bmatrix}$\n",
        "\n",
        "  - $v_1 + v_2$\n",
        "\n",
        "  - $v_1 - v_2$\n",
        "\n",
        "  - $v_1 \\cdot v_2$ Inner product(내적) ≒ projection(투영)\n",
        "  $v_1 \\cdot v_2 = |v_1||v_2|cos\\theta \\ = \\ (a_1a_2 + b_1b_2 + c_1c_2)$\n",
        "\n",
        "\n"
      ]
    },
    {
      "cell_type": "markdown",
      "metadata": {
        "id": "OWLb88dDUX7T"
      },
      "source": [
        "![image.png](data:image/png;base64,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)"
      ]
    },
    {
      "cell_type": "markdown",
      "metadata": {
        "id": "EbT_v5qcUqAh"
      },
      "source": [
        " - 함수의 내적\n",
        "\n",
        "  - $(f_1(t) , f_2(t))$\n",
        "     - $f_1(t) = (\\cdots f_1(t_1), f_1(t_2) \\cdots)$\n",
        "     - $f_2(t) = (\\cdots f_2(t_1), f_2(t_2) \\cdots)$\n",
        "\n",
        "  - $\\sum_{k=-∞}^{∞}f_1(t_k)  f_2(t_k)$　→　$\\int f_1(t)f_2(t)dt$ \n",
        "\n",
        "  - **Hilbert space** : vector 공간을 무한 차원으로 확장."
      ]
    },
    {
      "cell_type": "markdown",
      "metadata": {
        "id": "2WH29iysbpTV"
      },
      "source": [
        "![image.png](data:image/png;base64,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)"
      ]
    },
    {
      "cell_type": "markdown",
      "metadata": {
        "id": "1YXkIjTNMkpl"
      },
      "source": [
        "## **II. Gaussian Elimination (가우스 소거법)**\n",
        "\n",
        "---"
      ]
    },
    {
      "cell_type": "markdown",
      "metadata": {
        "id": "NXRrf3onM2eC"
      },
      "source": [
        "### **1. Introduction**\n",
        "\n",
        "- How to solve linear equations with n unkonwns ?\n",
        "  - **Elimination**\n",
        "    - **Example**　　　\n",
        "$x + 2y = 3 \\\\ 4x + 5y = 6$\n",
        "      - $(4x+5y = 6) - (4\\times(x+2y = 3))$\n",
        "      - $-3y = -6$\n",
        "      - $y = 2$\n",
        "      - $x = -1$\n",
        "\n",
        "  - Determinants (cramer's rule)\n",
        "\n",
        "  - Usually elimination method is much better than determinants"
      ]
    },
    {
      "cell_type": "markdown",
      "metadata": {
        "id": "1RcxGuT6b1fc"
      },
      "source": [
        "### **2. Geometry of Linear Equations**\n",
        "\n",
        "\n",
        "- **Row equations**\n",
        "  - Solution is the intersection of two lines\n",
        "  - $2x - 4y = 1 \\\\ x+y = 5$\n",
        "\n",
        "    ![image.png](data:image/png;base64,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)\n"
      ]
    },
    {
      "cell_type": "markdown",
      "metadata": {
        "id": "NODysBBAcugz"
      },
      "source": [
        "- **column form**\n",
        "  - to find the combination of column vectors that produces the right-side vector\n",
        "\n",
        "  - Solution is to make the geometric parallelogram to vectors.\n",
        "\n",
        "  - 해를 구하기 위해 각 벡터에 각각 $x, y$배\n",
        "\n",
        "  - $x\\begin{bmatrix}2 \\\\ 1\\end{bmatrix} + y\\begin{bmatrix}-1 \\\\1 \\end{bmatrix} = \\begin{bmatrix} 1 \\\\ 5\\end{bmatrix}$\n",
        "\n",
        "　　　　![image.png](data:image/png;base64,iVBORw0KGgoAAAANSUhEUgAAATEAAADdCAYAAADTlEUlAAAVx0lEQVR4Ae2dPcgcRRjHUyi+MWrUJKLG4HeQCFHQQkRFmyQggojiF8a3jGBhkSIgKtqksBAEsbRMaSXBylKsLC1jZ2lpufJfnZe5u9253b2Z3Wdmfgsvd7ezOzfzf573dzPPfOyhhgMFAgrs7+8HUklCgeUVOLR8ESiBZQUOHcJFLNuHsjUNHooXBBUAYkF5SDSgABAzYATLRQBilq1D2aQAEMMPggoAsaA8JBpQAIgZMILlIgAxy9ahbFIAiOEHQQWAWFAeEg0oAMQMGMFyEYCYZetQNikAxPCDoAJALCgPiQYUAGIGjGC5CEDMsnUomxQAYvhBUAEgFpSHRAMKADEDRrBcBCBm2TqUTQoAMfwgqAAQC8pDogEFgJgBI1guAhCzbB3KJgWAGH4QVACIBeUh0YACQMyAESwXAYhZtg5lkwJADD8IKgDEgvKQaEABIGbACJaLAMQsW4eySQEghh8EFQBiQXlINKAAEDNgBMtFAGKWrUPZpAAQww+CCgCxoDwkGlAAiBkwguUiADHL1qFsUgCI4QdBBYBYUB4SDSgAxAwYwXIRgJhl61A2KQDE8IOgAkAsKA+JBhQAYgaMYLkIQMyydSibFABi+EFQASAWlIdEAwoAMQNGsFwEIGbZOpRNCgAx/CCoABALykOiAQWAmAEjWC4CELNsHcomBYAYfhBUAIgF5SHRgAJAzIARLBcBiFm2DmWTAkAMPwgqAMSC8pBoQAEgZsAIlosAxCxbh7JJASCGHwQVAGJBeUg0oAAQM2AEy0UAYpatQ9mkABDDD4IKALGgPCQaUACIGTCC5SIAMcvWoWxSAIjhB0EFgFhQHhINKADEDBjBchGAmGXrUDYpAMTwg6ACQCwoD4kGFABiBoxguQhAzLJ1KJsUAGL4QVABIBaUh0QDCgAxA0awXAQgZtk6lE0KADH8IKgAEAvKQ6IBBYCYASNYLgIQs2wdyiYFgBh+EFQAiAXlIdGAAkDMgBEsFwGIWbYOZZMCQAw/CCoAxILykGhAASBmwAiWiwDELFuHskkBIIYfBBUAYkF5SDSgABAzYATLRQBilq1D2aQAEMMPggoAsaA8JBpQAIgZMILlIgAxy9ahbFIAiOEHQQWAWFAeEg0oAMQMGMFyEYCYZetQNikAxPCDoAJALCgPiQYUAGIGjGC5CEDMsnUomxQAYvhBUAEgFpSHRAMKADEDRrBcBCBm2TqUTQoAMfwgqAAQC8pDogEFgJgBI1guAhCzbB3KJgWAGH4QVACIBeUh0YACQMyAESwXAYhZtg5lkwJADD8IKiCI/fPPP83vv//e/P33380vv/wS/Ltx40YwPxJRILYCQCy2ogXk99dffzXXrl1rPvnkk0YQ098XX3zRwuy55547OOfS/FfBjgMF5lQAiM2ptuHvun79erO/v9889NBDG5Da29trBDYdamndeeedG9cIZK+//rrhGlK0UhUAYqVadmS91IISrPxWlXsvuPnHjz/+2Hndr7/+6l/GexSYRQEgNovMeXxJH5y6uoh+V1Owu/fee9u/b775pu125lFjSlmCAkCsBCtGqoMC+OoSuhaYe+3KXte6+Jjrbiro//LLLwOzLsE4l0wBIJZM2rwyVqzr6aefboP5ly5dWgFZX01cfEytMv/wYabWHQcKpFQAiKVUN5O8FctSd1BdQR1qZbkWlVpjoUOQckH/9esEsz/++GP9NJ9RIKoCYQ+N+lVkZlGB77//vgWYRif9Q3PCNM1iG8T8e0LvlZ+6nz/88EPoMtJQYLQCQGy0ZOXcoG7gE088EWwtxYKYVHPdTE3jAGbl+NHSNQFiS1tgoe/XtAl1GdVCCh0xIea+B5g5JXiNoQAQi6FihnkMXR6UAmJOLh9mxM6cKryOVQCIjVUs4+sVwFfQfsyREmKuHILZ2HK5e3lFASBWiQ+4AP7YFs8cEPNNoPIRM/MV4f02BYDYNoUKSNe8L80BG9qF9Ks8N8T03X43kwEA3xq871IAiHWpUsg5Be0VvNcs/KndtSUg5uQHZk4JXkMKALGQOhmnuW6ZttDZ5VgSYq7cPsz6Jta6a3mtTwEgVqDNBTDNwNdk1V0PCxBzdWCXDKcEr74CQMxXo6D3U+JfXdW3BDG/fAK04nyszfRVqfM9ECvE7op5pWipWIWYzOa6mcCsECeeWA0gNlE4S7cpTqR/ZI1Cxj4sQ8zVFZg5Jep8BWKZ210bFir+tWsAv0+GHCDmyu5gpoXmHPUoAMQytrXiQtrvPkYAv0+GnCDm6uDHA6dOLXF58WpfASBm30adJbxy5Uo7s71r6+jOGyaezBFiflW1RxoxM1+R8t4DsQxtqtiXukxzzJnKHWIyr+tmArMMnX1AkYHYAJGsXSJ4zdVNKgFizn6CmUAGzJwiZbwCsUzsOGUHihhVKwliTg/NLRPILly44E7xmrECQCwD47kdKFLMA9tW/RIh5ursDwBs2xzS3cOrPQWAmD2brJRIW0hra5rUAfyVL/U+lAwxr5rtU57oZvqK5PMeiBm1lVoG6u4M2UI6ZRVqgZg0dN1MYJbSo+LnDcTia7pzjurm6AEeKWbgjy1cTRBz2gAzp0Qer0DMmJ0EMM3AVxzMwlEjxJzuDmbrDwd26bzaUACI2bDDSin8gPNKwgIfaoaYk9sP+luyjStf7a9AzIgHLBW431Z9ILaqkCYZEzNb1WTpT0BsYQu4AL62kLZ4ALFNq2jff40YC2aaQMuxrAJAbEH9tQOrAviWYy5ArN9BHMw0ggzM+nVKnQLEUivck//169fbAL71p/kAsR4DeqcdzLTYnGN+BYDY/Jo3cnZtobPEDPyx1QViwxVjAGC4VjGvBGIx1RyQl7qOiqXkMsoFxAYYteMShQnoZnYIk+AUEEsgaihLwcv/xQ5dayENiE23gutmArPpGg65E4gNUWnHaxTAn2vrnB2LunE7ENuQZPQJYDZaslE3ALFRco2/WLO+NQM/h/hXV+2AWJcq0845mDGSOU2/vruAWJ8yEc5fvXp10R0oIlShAWIxVOzPQ610jt0UAGK76dd5t7qO77zzTruFdE7xr67KALEuVeKcU3xUrXRNdLa6YiNOTdPmAsQi66uto7U0ZX9/P9s4mC8JEPPViP9eP3iacgPMpmsLxKZrt3GnAKblKCVNegRiG2ZOcgKYTZcViE3XrvPOXAP4nZVpGmJifcIkOu/D7KeffprliVaJqjJbtkAsgtQlxzNoiUVwkAFZKHaqpWh6krvmle3t7bV/czyWb0DxTF8CxHYwjxxPQdmSn5oDxHZwkC23ClCKnWp2v3Re/7O8McCWqs2aDMQmyq2RJbeFtLoApR5ALK1lBap1eLnPuSxNS6vQ9tyB2HaNNq7QZEUt4C4pgL9Ryf9PALE+ZeKc1w+guo8OXO7V6v5ycWodNxcgNlJP9wxIxS9qOIBYeitrUrSDl3stOc4aW1EgNkJROZu6kDXNsgZiIxxk5KVqhbmYmJYkKZgvvdUy4xiuABAbrlW7fU7uM/BHVLe9FIiNVWzY9Yp3aUsmdRudTwlk0lvrbTmGKwDEtmilEaSSA/dbqt/+U227hvTxCmhEW9Mp1g8rj+pbL5flz0AsYB0XwK8l/tUlBS2xLlU4Z0kBINZjDf0iagSy9m1TgFiPg0w4rZaX6zpOuJ1behQAYh3CXLp0qboAfocM7Skg1qfM8PMCl4L1fvxr+N1cuU0BIOYp5JxNDscv5n/CADHPQSa81VQJbQrQFf+akB23dCgAxP4XRdCSs7HUY9VLgNiqHmM+Xbt2rd1ih9HGMaqNvxaIeZrVHv/ypDh4C8QOpBj1Rj+Gtc0pHCVQxIurhxjr08LeBMTC+nSl6seQ+FeXMmnOVQsxzf1SAF+7sHL0KwDE+rUhxYYCVULMBfC1D37NE1mHuCAQG6JS0yj+VcOGAMPUmPeq6iCmdY+MFg13MiC2XSvFv+RTLNrerlWKK6qCmHsGpH41OYYpAMT6dXIteqbk9Gs0R0o1EHMPLuXXcpxbAbFuvdz8L6bkdOsz59lqICanY7/y8a4FxDY1U0teS9Jo0W9qs8SZoiFW+w4UMRwKiK2qqIEgDQiV9lSr1Vrm9alYiMnJ9EBSZkvv5pBAbDf9uDu9AkVCTM18ABbHeYBY0446KnjPdJw4PhU7l+IgduXKFYa7I3pJ7RBTS574V0SHSpBVMRDTcLeWejDcHddLaoaYdp5Qi574V1yfip1bERATwLRfuZYRccRVoEaI/fzzz81rr73WLkljRDuuP6XIrQiISZiat5BO4Rguz9IhphUcmkPo1tGqvocPH24/EwNzXmD7NWuI8SuZ3rlKhJjmDCrs4B6Rpjr6f7To0/tVzG/IFmKaKc0OFDFdoTuvEiGmFpYg5oPLvVdYgiMvBbKDmOJfetwVAfx5HK1EiEk5teK1aNvBy72yE8U8fhXzW7KCmOIX2i2T5n5MFwjnVSrE1Bo7d+7cCsQ0EkkcLOwPFlOzgZgC95qvw8NF53WjEiGmVtiZM2famNi77757ADJaYfP6VqxvywJiX375ZetwH374YfvUGM3f0d/+/n7brVTXktHJWC6xmk9pENOcr9tvv739c/O/FF9VkF+hCo78FMgCYupGvvjiiwe/mC5+4V7pBqRzvJIg9vXXX7ewUivMH9lWF5IdKdL5UOqcs4CYRNCvpOJhDlz+q5YacaRRoASICVLaeeLs2bPNZ599Rtwrjasslms2EJNCejKR4mI+wPT+6tWrOGYiF8odYvIZwYvnKSRyEAPZZgUx6aXHYfmTFBUPk4OqS6k4md9NMKBv9kXIGWLyFcW/Tp48mb0dqEC/AtlBTFXRCKVrjbntpvWLqwCtYKaAvzvfX3VShiiQK8Rc/Ovxxx9vW/BD6so1eSqQJcQktYDVNbtasTMNlWsiI0PmuztlbhBT/EuLt48cOdLuasK8r919wHoO2UJMwm5rbflD5upa+J+tG8ZK+XKCmFrjjz32WHPLLbc0aolx1KFA1hAbYyJ1MTUooBacnJ1jmAK5QEw/UnfccUe7A4Xec9SjQDUQk0ld3Eww42EPw5w8B4gpbKBY6HfffccP1DCzFnVVVRBzllO3UoMDiptpJwx+uZ0ym6+WIaZ4l3bzlQ0Zld60XS1nqoSYb1ztoe6Wn/jnef+fAlYhpla1Rh5vvfXWRjuxctSrQPUQWze9ftW1SwZxs/+UsQgxF/9SDIxH8q17cH2fgdiazdUt0TImxc3UVam9q2kNYop/qfX14IMPNlpTy4ECQKzHBxRv0d7rWq+p+Wh6X+NhBWKyxxtvvNGOQGpTTKbL1OiN3XUGYt26rJzVNj/6x6lxobkFiKlrr50ntITo008/XbENH1AAiE30AW3dUkN3ZmmIKeal6RPffvtt9V37ia5a/G1AbKKJtXOG/rnUQit5Q8YlIaZW14kTJxg9nuijtdwGxHa0tGJlipkpdqb3pa3VWwJiinfpx+G2225rLl68uKOFuL10BYBYJAtrrtn58+fbfzy9ui20c99Ge26IqYuukUeNQBL/iuSchWcDxCIb+JVXXjnYJkgA8P/U/cytpTYnxBT/0twv5n9FdsrCswNikQ2srlDfNtpqleV2zAUxtbqY/5Wbd9goLxBLYAdNCejaRvvuu+9u9zjLaY5TaohJC00qll5qxeakTQLXIcsJCgCxCaINuUUjln5XUoHql156qd2s7/Dhw81HH32UxdKmlBBT/EutVi3z+u2334bIyjUosKEAENuQJN4JLZFxIHMbOOof980332xhpgmc1tdopoKY4l9qmfIw5Hj+VmtOQCyx5bUZo7pL64fWaCpGpmC/9jb76quvTC5tSgEx1VvbR993331sobPuGHwerQAQGy3ZuBs0GulaYV13Kl3zy06dOtWOyik2pIm0VmJDMSGmOr366qtt/Ov55583U8cuu3AuHwWAmCFbKY727LPPtnPNbrrppua9995bfGlTLIipG/3II4+0APv4448NqU5RclcAiBm0oFpub7/9dvt8TT30QoMCSx0xIKb4l1qYmv+lNaccKBBTASAWU83IeSludvny5bZl5p6lqXNzTpjdFWKKf911111t/CvUrY4sHdlVpAAQy8DYgpZ7JoCeC6BWjbYFEtBSH1Mh5uZ/6Qntf/75J/Gv1IaqOH8glpnx1TV76qmn2tbZzTff3HzwwQfBgYNdqzcFYmpxPfroo83777+/69dzPwpsVQCIbZXI5gVacK6pG3t7e+10BY32CXCxj7EQU8xLu0+otVjrbrixbUB+YQWAWFgf86maLKvRPq07fPjhh6O3ysZATA8m1gTWY8eOsQeYec8pp4BArBBbKgalFQKKmSkO9fnnn0eJmw2BmL5bS6ruueeedorIHLG6QsxGNSIoAMQiiGgtC3XjtKRJUxq0TnOXuNk2iCn+9cADD7Q7sGoN5Jwjp9Z0pzzLKADEltF9lm/V4+Y0Q14gO3r0aPPMM8+MnqcVgpjiX4p93X///ayBnMWifEmXAkCsS5XCziluplaSRjO1Z726nENbTH0QU/xL+aglNjSvwmSlOkYUAGJGDDFHMRS70rpMgcw94ETnQjtprENM17/wwgvN6dOnmfs1h9H4jq0KALGtEpV3gVpOiptpLy8tPNfI5ltvvdU5ouhDTK2ukydPtiOQxL/K84tcawTEcrVcpHJr0fm5c+cOdtB48sknV+Z3OYgp/qXtcxQDYw+wSOKTTRQFgFgUGfPPRLtMaH2mQKXW1vHjx9uupyCm+Jfgxfyv/O1cYg0OaU6RHJU/NMAH8IGcfEA/rIrR0hIr8acpQp0UN1O3UU5N/CuCoGSRTAEglkzaMjIWxDhQwLICeKhl6xgoGxAzYASKEFQAiAXlIRGI4QPWFQBi1i20cPmA2MIG4Ou3KgDEtkpU9wVArG7751B7IJaDlRYsIxBbUHy+epACQGyQTPVeBMTqtX0uNQdiuVhqoXICsYWE52sHKwDEBktV54VArE6751RrIJaTtRYoKxBbQHS+cpQCQGyUXPVdDMTqs3luNQZiuVls5vICsZkF5+tGKwDERktW1w1ArC5751hbIJaj1WYsMxCbUWy+apICQGySbPXcBMTqsXWuNQViuVpupnIDsZmE5msmKwDEJktXx41ArA4751xLIJaz9WYoOxCbQWS+YicFgNhO8pV/MxAr38a51xCI5W7BxOUHYokFJvudFQBiO0tYdgZArGz7llA7IFaCFRPWAYglFJesoygAxKLIWG4mQKxc25ZSMyBWiiUT1QOIJRKWbKMpAMSiSVlmRkCsTLuWVCsgVpI1E9QFiCUQlSyjKgDEospZXmZArDybllYjIFaaRSPXB4hFFpTsoisAxKJLWlaGQKwse5ZYGyBWolUj1gmIRRSTrJIoAMSSyFpOpkCsHFuWWhMgVqplI9ULiEUSkmySKQDEkklbRsY3btwooyLUolgF/gX11JDhxXygwAAAAABJRU5ErkJggg==)\n",
        "\n",
        "\n",
        "\n"
      ]
    },
    {
      "cell_type": "markdown",
      "metadata": {
        "id": "HG_5EDYRe0q0"
      },
      "source": [
        "#### **2-1. n = 3 case (3차원 Vector0**\n",
        "\n",
        "$$ \\begin{cases} 2u+v+w = 5 \\\\ 4u -6v = -1 \\\\ -2u +7v+2w = 9 \\end{cases}$$\n",
        "\n",
        "\n",
        "$$ \\rightarrow 3planes$$\n",
        "\n",
        "  - **Row equations** \n",
        "    - Solution is the intersection of 3 planes　→　a point\n",
        "\n",
        "\n",
        "  - **column form**\n",
        "    - Linear Combination of 3 column vectors\n",
        "    \n",
        "　　　　　$u\\begin{bmatrix}2 \\\\ 4 \\\\ -2 \\end{bmatrix} + v\\begin{bmatrix}1 \\\\-6 \\\\ 7 \\end{bmatrix} + w\\begin{bmatrix} 1 \\\\ 0 \\\\2 \\end{bmatrix} = \\begin{bmatrix} 5 \\\\ -2 \\\\9 \\end{bmatrix}$\n"
      ]
    },
    {
      "cell_type": "markdown",
      "metadata": {
        "id": "8rn66UMEhkrA"
      },
      "source": [
        "#### **2-2. Singular Cases**\n",
        "\n",
        "　　　**No Solution** : 해가 없는 경우\n",
        "\n",
        "　　　**Infinite Solution** : 해가 무수히 많은 경우\n",
        "\n",
        "\n",
        "- **Row form**\n",
        "  - No Solution \n",
        "    - parallel\n",
        "    - no intersection of 3 planes\n",
        "  \n",
        "  - Infinite\n",
        "    - line of intersection.\n",
        "    - overlap\n",
        "\n",
        "\n",
        "- **column picture**\n",
        "\n",
        "  - no solution\n",
        "    - column vector parallel : 위의 parallel과는 달리 vector가 평행.\n",
        "  - Infinite\n",
        "    - 3 column vectors are in a plane\n",
        "\n",
        "  - $\\vec{a}$ : not in a plane = no solution\n",
        "  - $\\vec{b}$ : in a plane = infinite solutions\n",
        "\n",
        "  　　　![image.png](data:image/png;base64,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)\n",
        "\n"
      ]
    },
    {
      "cell_type": "markdown",
      "metadata": {
        "id": "VcBJU0lDjkil"
      },
      "source": [
        "## **III. Example of Gaussian Elimination**\n",
        "---"
      ]
    },
    {
      "cell_type": "markdown",
      "metadata": {
        "id": "SzAPlsrPkKFL"
      },
      "source": [
        "### **1. Pivots $\\ne$ 0**\n",
        "\n",
        "- All pivots are non-zero　→　G.E has a unique solution.\n",
        "\n",
        "- **Foward elimination stop**\n",
        "\n",
        "  $\\begin{cases} 2u+n+w = 5 \\\\ 4u-6v = -2 \\\\ -2u+7v+2w = 9\\end{cases}$\n",
        "\n",
        "  **1st pivot** $: 2(u) \\ne 0$\n",
        "\n",
        "  $\\begin{cases} 2u+n+w = 5 \\\\ 　 -8u -2w = -12 \\\\ 　+8v+3w = 14\\end{cases}$\n",
        "\n",
        "  **2nd pivot** $: -8(v) \\ne 0$\n",
        "\n",
        "  $\\begin{cases} 2u+n+w = 5 \\\\ 　 -8u -2w = -12 \\\\ 　　　　+w = 14\\end{cases}$\n",
        "\n",
        "  **3th pivot** $: 1(w) \\ne 0$\n",
        "\n",
        "\n",
        "- **Back - Substitution**\n",
        "  - $w = 2　 \\rightarrow　 v = 1 　\\rightarrow 　u =1$\n",
        "\n",
        "  ![image.png](data:image/png;base64,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)\n",
        "\n"
      ]
    },
    {
      "cell_type": "markdown",
      "metadata": {
        "id": "KgDN9Uz-ns85"
      },
      "source": [
        "### **2. Some Pivots = 0**\n",
        "\n",
        "- when a zero appears in a pivot position\n",
        "\n",
        "  - ① Elimination has to stop.\n",
        "\n",
        "  - ② The order of equations has to be changed. \n",
        "  　　= 순서 변경 \n",
        "  　　= **Pivoting**\n",
        "\n",
        "  $\\begin{cases} u+n+w = a \\\\ 2u+2v+5w = b \\\\ 4u+6v+8w = c\\end{cases}$　→　\n",
        "  $\\begin{cases} u+n+w = a \\\\ 　　　　3w = b \\\\ 　\\ 2v+4w = c\\end{cases}$　→ stop and **Pivoting** → \n",
        "  $\\begin{cases} u+n+w = a \\\\　\\ 2v+4w = c \\\\ 　　　　3w = b\\end{cases}$　\n",
        "\n",
        "\n",
        "  - if ${b-2a \\over 3} = {c-4a \\over 4}$ 　→　Infinite\n",
        "  - else 　→　no Solution : 세 평면이 동시에 안만난다.\n"
      ]
    },
    {
      "cell_type": "markdown",
      "metadata": {
        "id": "ILNPSqJjsE_U"
      },
      "source": [
        "## **< Code > Gaussian Elimination**\n",
        "\n",
        "- $n \\times n$ 정방 행렬에서의 Gaussian Elimination\n",
        "\n",
        "- 사용한 Pivoting 방식 :　Pivot 위치가 0이면 그 열을 맨 아래로 이동."
      ]
    },
    {
      "cell_type": "code",
      "metadata": {
        "id": "F3lc5aqamW8M"
      },
      "source": [
        "def GE_nn(M) :\n",
        "  import numpy as np\n",
        "\n",
        "  M = M.astype(np.float)\n",
        "\n",
        "  for j in range(M.shape[0]) : \n",
        "\n",
        "    ### Pivoting\n",
        "    for i in range(M.shape[0]) : \n",
        "      if M[i, j] == 0 :\n",
        "        M = np.concatenate((M, M[i, :]), axis = 0)\n",
        "        M = np.delete(M, i, axis = 0)\n",
        "\n",
        "    ### Gaussian Elimination.\n",
        "    if j < M.shape[0]-1 :\n",
        "      for i in range(j+1, M.shape[0]) :\n",
        "        a = (M[i, j] / M[j, j])\n",
        "        M[i, : ] =  M[i, : ] - (a * M[j, :])\n",
        "   \n",
        "  return M"
      ],
      "execution_count": null,
      "outputs": []
    },
    {
      "cell_type": "markdown",
      "metadata": {
        "id": "xWi3eliEulgO"
      },
      "source": [
        "### **- Pivoting 필요 없는 경우**"
      ]
    },
    {
      "cell_type": "code",
      "metadata": {
        "colab": {
          "base_uri": "https://localhost:8080/"
        },
        "id": "VE74G9nNlmCq",
        "outputId": "dd0ac9dc-0267-421f-f33f-6789669891ce"
      },
      "source": [
        "import numpy as np\n",
        "\n",
        "A = np.asmatrix([[2, -5, 4], [1, -2, 1], [1, -4, 6]])\n",
        "b = np.asmatrix([-3, 5, 10]).T\n",
        "p = A.shape[0]\n",
        "U_pls = np.concatenate((A, b), axis = 1)\n",
        "\n",
        "# print(\"A :\\n\", A)\n",
        "# print(\"b :\\n\", b)\n",
        "# print(\"p :\", p)\n",
        "print(\"U_pls :\\n\", U_pls)\n",
        "\n",
        "M = U_pls.copy().astype(np.float)\n",
        "GE_nn(M)"
      ],
      "execution_count": null,
      "outputs": [
        {
          "output_type": "stream",
          "text": [
            "U_pls :\n",
            " [[ 2 -5  4 -3]\n",
            " [ 1 -2  1  5]\n",
            " [ 1 -4  6 10]]\n"
          ],
          "name": "stdout"
        },
        {
          "output_type": "execute_result",
          "data": {
            "text/plain": [
              "matrix([[ 2. , -5. ,  4. , -3. ],\n",
              "        [ 0. ,  0.5, -1. ,  6.5],\n",
              "        [ 0. ,  0. ,  1. , 31. ]])"
            ]
          },
          "metadata": {
            "tags": []
          },
          "execution_count": 4
        }
      ]
    },
    {
      "cell_type": "markdown",
      "metadata": {
        "id": "lJ3PWw-Sur3J"
      },
      "source": [
        "### **- Pivoting 필요한 경우**"
      ]
    },
    {
      "cell_type": "code",
      "metadata": {
        "colab": {
          "base_uri": "https://localhost:8080/"
        },
        "id": "OiJy9YyBrh7m",
        "outputId": "0d895812-effe-41b8-f0ee-f7630b7faf6a"
      },
      "source": [
        "A2 = np.asmatrix([[1, 1, 1], [2, 2, 5], [4, 6, 8]])\n",
        "b2 = np.asmatrix([-3, 5, 10]).T\n",
        "p2 = A2.shape[0]\n",
        "U_pls2 = np.concatenate((A2, b2), axis = 1)\n",
        "\n",
        "# print(\"A2 :\\n\", A2)\n",
        "# print(\"b2 :\\n\", b2)\n",
        "# print(\"p2 :\", p2)\n",
        "print(\"U_pls2 :\\n\", U_pls2)\n",
        "\n",
        "M2 = U_pls2.copy().astype(np.float)\n",
        "GE_nn(M2)"
      ],
      "execution_count": null,
      "outputs": [
        {
          "output_type": "stream",
          "text": [
            "U_pls2 :\n",
            " [[ 1  1  1 -3]\n",
            " [ 2  2  5  5]\n",
            " [ 4  6  8 10]]\n"
          ],
          "name": "stdout"
        },
        {
          "output_type": "execute_result",
          "data": {
            "text/plain": [
              "matrix([[ 1.,  1.,  1., -3.],\n",
              "        [ 0.,  2.,  4., 22.],\n",
              "        [ 0.,  0.,  3., 11.]])"
            ]
          },
          "metadata": {
            "tags": []
          },
          "execution_count": 5
        }
      ]
    },
    {
      "cell_type": "markdown",
      "metadata": {
        "id": "1Yq2rREiuwJu"
      },
      "source": [
        "### **- 역행렬 존재 안하는 경우**"
      ]
    },
    {
      "cell_type": "code",
      "metadata": {
        "colab": {
          "base_uri": "https://localhost:8080/"
        },
        "id": "3sis2NV-t3IM",
        "outputId": "3731f49d-e0e9-41fb-a67f-8e75c482d10c"
      },
      "source": [
        "A3 = np.asmatrix([[1, 1, 1], [0, 2, 2], [0, 4, 4]])\n",
        "b3 = np.asmatrix([-3, 5, 10]).T\n",
        "p3 = A3.shape[0]\n",
        "U_pls3 = np.concatenate((A3, b3), axis = 1)\n",
        "\n",
        "# print(\"A3 :\\n\", A3)\n",
        "# print(\"b3 :\\n\", b3)\n",
        "# print(\"p3 :\", p3)\n",
        "print(\"U_pls3 :\\n\", U_pls3)\n",
        "\n",
        "M3 = U_pls3.copy().astype(np.float)\n",
        "GE_nn(M3)"
      ],
      "execution_count": null,
      "outputs": [
        {
          "output_type": "stream",
          "text": [
            "U_pls3 :\n",
            " [[ 1  1  1 -3]\n",
            " [ 0  2  2  5]\n",
            " [ 0  4  4 10]]\n"
          ],
          "name": "stdout"
        },
        {
          "output_type": "execute_result",
          "data": {
            "text/plain": [
              "matrix([[ 1.,  1.,  1., -3.],\n",
              "        [ 0.,  4.,  4., 10.],\n",
              "        [ 0.,  0.,  0.,  0.]])"
            ]
          },
          "metadata": {
            "tags": []
          },
          "execution_count": 6
        }
      ]
    },
    {
      "cell_type": "markdown",
      "metadata": {
        "id": "h5RDONqWn0Bf"
      },
      "source": [
        "## **IV. Matrix Notation and Multiplication**\n",
        "---\n"
      ]
    },
    {
      "cell_type": "markdown",
      "metadata": {
        "id": "LG9IasqLz3L7"
      },
      "source": [
        "### **1. Matrix**\n",
        "\n",
        "$\\begin{cases} 2u+v+w=5 \\\\ 4u-6v = -2 \\\\ -2u+7v+2w =9\\end{cases}$ 　→　$\\begin{bmatrix} 2 & 1 & 1 \\\\ 4 & -6 & 0 \\\\ -2 & 7 & 2\\end{bmatrix} \\begin{bmatrix} u \\\\ v \\\\ w \\end{bmatrix}$ = $\\begin{bmatrix} 5 \\\\ -2 \\\\ 9 \\end{bmatrix}$  　→　$u\\begin{bmatrix}2 \\\\ 4 \\\\ -2 \\end{bmatrix} + v\\begin{bmatrix}1 \\\\-6 \\\\ 7 \\end{bmatrix} + w\\begin{bmatrix} 1 \\\\ 0 \\\\2 \\end{bmatrix} = \\begin{bmatrix} 5 \\\\ -2 \\\\9 \\end{bmatrix}$ 　→　**$Ax = b$**\n",
        "\n",
        "\n",
        "- $Ax$ is a combination of the columns of $A$.\n",
        "The coefficients are the components of $x$.\n",
        "\n",
        "\n",
        "- $b_i = \\sum_{j=1}^n a_{ij}x_j$\n",
        "\n",
        "\n",
        "- Identity matrix $I$ : $Ix = x$\n",
        "\n",
        "\n",
        "- Multiplication by columns : $AB = A[b_1 b_2 b_3] = [Ab_1 Ab_2 Ab_3]$\n",
        "\n",
        "\n",
        "- $A_{m \\times n} \\cdot B_{n \\times l} = (AB)_{m \\times l}$\n",
        "$(AB)_{ij} = \\sum_{k=1}^n a_{ik}b_{kj}$\n",
        "\n",
        "\n",
        "- $(AB)C = A(BC)$　　　　　associaative law\n",
        "$A(B+C) = AB + AC$ 　 　distribution law\n",
        "$AB \\ne BA$　　　　　　　 　　usually"
      ]
    },
    {
      "cell_type": "markdown",
      "metadata": {
        "id": "yLjjmCYcvKiA"
      },
      "source": [
        "### **2. Elementary matrix in elimination steps**\n",
        "\n",
        "-  $E_{21} = \\begin{bmatrix} 1&0&0 \\\\ -l_{21}&1&0\\\\ 0&0&1 \\end{bmatrix}$ 　→　$l_{21}$ : times of row2 and subtraction of row2.\n",
        "\n",
        "  $E_{31} = \\begin{bmatrix} 1&0&0 \\\\ 0&1&0\\\\ -l_{31}&0&1 \\end{bmatrix}$ 　→　$E_{31}^{-1} = \\begin{bmatrix} 1&0&0 \\\\ 0&1&0\\\\ +l_{31}&0&1 \\end{bmatrix}$　　**\"부호\"만 변경**\n",
        "  \n",
        "  $E_{32} = \\begin{bmatrix} 1&0&0 \\\\ 0&1&0\\\\ 0&-l_{32}&1 \\end{bmatrix}$\n",
        "\n",
        "\n",
        "  \n",
        "-  $E_{21} A = \\begin{bmatrix} 2&1&1 \\\\ 0&-8&-2\\\\ -2&7&-2 \\end{bmatrix}$ 　→　 **Gaussian elimination process result by $l_{21}$**\n",
        "\n",
        "\n",
        "- $E_{32} E_{31} E_{21} A = U$　→　$A = E_{21}^{-1} E_{31}^{-1} E_{32}^{-1}U$　→　 $\\begin{bmatrix} 1&0&0 \\\\ l_{21}&1&0\\\\ l_{31}&l_{32}&1 \\end{bmatrix}$　→　 $LU$ = **Lower Triangle Matrix**\n",
        "\n",
        "  "
      ]
    },
    {
      "cell_type": "markdown",
      "metadata": {
        "id": "-JhLhDyJu-Ws"
      },
      "source": [
        "## **< Code > LU Decomposition**\n",
        "\n",
        "- $n \\times n$ 정방 행렬에서의 LU Decomposition\n",
        "\n",
        "- Upper $U$ : Gaussian Elinimation.\n",
        "\n",
        "- Lower $L$ : $E E E \\cdots$ Elemnetary 사용."
      ]
    },
    {
      "cell_type": "code",
      "metadata": {
        "id": "1mv_XIWqu-Wt"
      },
      "source": [
        "def LU_nn(M) :\n",
        "  import numpy as np\n",
        "\n",
        "  M = M.astype(np.float)\n",
        "  L = np.eye(N = M.shape[0], M = M.shape[0], dtype = np.float)  # Lower 저장 공간\n",
        "  for j in range(M.shape[0]) : \n",
        "\n",
        "    ### Pivoting\n",
        "    for i in range(M.shape[0]) : \n",
        "      if M[i, j] == 0 :\n",
        "        M = np.concatenate((M, M[i, :]), axis = 0)\n",
        "        M = np.delete(M, i, axis = 0)\n",
        "\n",
        "    ### Gaussian Elimination.\n",
        "    if j < M.shape[0]-1 :\n",
        "      for i in range(j+1, M.shape[0]) :\n",
        "        a = (M[i, j] / M[j, j])\n",
        "        M[i, : ] =  M[i, : ] - (a * M[j, :])\n",
        "\n",
        "        ### G.E가 진행되는 동안 변하는 Pivot의 값을 따로 저장.\n",
        "        L[i, j] = a\n",
        "   \n",
        "  Upper = M   # G.E 결과 = Upper\n",
        "  Lower = L   \n",
        "  \n",
        "  return print(\"U : \\n\", Upper, \"\\n\", \"L : \\n\", Lower, \"\\n\", \"LU : \\n\", Lower @ Upper)"
      ],
      "execution_count": null,
      "outputs": []
    },
    {
      "cell_type": "code",
      "metadata": {
        "colab": {
          "base_uri": "https://localhost:8080/"
        },
        "id": "bEKi4p-DuAXV",
        "outputId": "912a8344-f7bf-40df-bc7a-754cd792de72"
      },
      "source": [
        "A = np.asmatrix([[2, -5, 4], [1, -2, 1], [1, -4, 6]])\n",
        "\n",
        "print(\"A :\\n\", A)\n",
        "\n",
        "LU_nn(A)"
      ],
      "execution_count": null,
      "outputs": [
        {
          "output_type": "stream",
          "text": [
            "A :\n",
            " [[ 2 -5  4]\n",
            " [ 1 -2  1]\n",
            " [ 1 -4  6]]\n",
            "U : \n",
            " [[ 2.  -5.   4. ]\n",
            " [ 0.   0.5 -1. ]\n",
            " [ 0.   0.   1. ]] \n",
            " L : \n",
            " [[ 1.   0.   0. ]\n",
            " [ 0.5  1.   0. ]\n",
            " [ 0.5 -3.   1. ]] \n",
            " LU : \n",
            " [[ 2. -5.  4.]\n",
            " [ 1. -2.  1.]\n",
            " [ 1. -4.  6.]]\n"
          ],
          "name": "stdout"
        }
      ]
    },
    {
      "cell_type": "markdown",
      "metadata": {
        "id": "gpQBM14GyOLP"
      },
      "source": [
        "## **V. Triangle Facrots & Row Exchanges**\n",
        "---\n",
        "\n",
        "$$A = L \\cdot U$$\n",
        "\n",
        "$$LU　factorization\\ (= decomposition)$$\n",
        "\n",
        "- $AX = b$\n",
        "\n",
        "  - $L^{-1}AX = L^{-1}b$\n",
        "\n",
        "  - $UX = C$\n",
        "\n",
        "  - $A = LU , LC = b$\n",
        "\n",
        "\n",
        "- $det(A)$　=　$det(L) \\times det(U)$\n"
      ]
    },
    {
      "cell_type": "markdown",
      "metadata": {
        "id": "fTRHt5cG0Frn"
      },
      "source": [
        "### **1. Remark**\n",
        "\n",
        "- **Remark 1** 　→　$U =D \\cdot U$\n",
        "  \n",
        "  $U$ = $\\begin{bmatrix} d_1&u_{12}&\\cdots&u_{1n} \\\\ \\vdots&d_2&u_{21}&\\vdots\\\\ \\vdots&\\vdots&\\ddots&\\vdots\\\\ \\cdots&\\cdots&\\cdots&d_n \\end{bmatrix}$ = $\\begin{bmatrix} d_1&&& \\\\ &d_2&& \\\\ &&\\ddots&\\\\ \\ &&&d_n\\end{bmatrix} \\begin{bmatrix} 1&u_{12}/d_1&\\cdots&u_{1n}/d_1 \\\\ \\vdots&1&u_{21}/d_2&\\vdots\\\\ \\vdots&\\vdots&\\ddots&\\vdots\\\\ \\cdots&\\cdots&\\cdots&1 \\end{bmatrix}$\n",
        "\n",
        "\n",
        "\n",
        "　　　$A = LU 　→　LDU$ 　:　$D$ is a diagomal matrix of pivots.\n",
        "\n",
        "\n",
        "- **Remark 2**\n",
        "  - $LDU$ factorization and $LU$ factorization are **uniquely** determined by $A$\n",
        "\n",
        "\n"
      ]
    },
    {
      "cell_type": "markdown",
      "metadata": {
        "id": "7CogE6l60Jwm"
      },
      "source": [
        "### **2. Pivoint and Permutation matrix**\n",
        "\n",
        "- A permutation matrix $P$ has the same rows as the $I$.\n",
        "  - There is a single \"I\" in every row and column.\n",
        "  - Total $n!$ permutations.\n",
        "\n",
        "\n",
        "- $I = \\begin{bmatrix} 1&0&0 \\\\ 0&1&0\\\\ 0&0&1 \\end{bmatrix}$\n",
        "\n",
        "\n",
        "- $P_{21} = \\begin{bmatrix} 0&1&0 \\\\ 1&0&0\\\\ 0&0&1 \\end{bmatrix}$ 　→　$P_{21}$ : **2행과 1행의 위치를 바꿈.**\n",
        "\n",
        "  $P_{31} = \\begin{bmatrix} 0&0&1 \\\\ 0&1&0\\\\ 1&0&0 \\end{bmatrix}$　,　　$P_{32} = \\begin{bmatrix} 1&0&0 \\\\ 0&0&1\\\\ 0&1&0 \\end{bmatrix}$\n",
        "\n",
        "\n",
        "- $P_{32}P_{21} = \\begin{bmatrix} 0&1&0 \\\\ 0&0&1\\\\ 1&0&0 \\end{bmatrix}$ $\\ne$ $P_{21}P_{32} = \\begin{bmatrix} 0&0&1 \\\\ 1&0&0\\\\ 0&1&0 \\end{bmatrix}$\n"
      ]
    },
    {
      "cell_type": "markdown",
      "metadata": {
        "id": "04IFI0TV5Y0t"
      },
      "source": [
        "## **VI. Inverse and Transpose**"
      ]
    },
    {
      "cell_type": "markdown",
      "metadata": {
        "id": "JuHtZI3O5gOd"
      },
      "source": [
        "### **1. Inverse**\n",
        "\n",
        "- $Ax = b　→　A^{-1}b = x 　↔　AA^{-1} = A^{-1}A = I$\n",
        "\n",
        "- Not all $A$ has its inverse matrix\n",
        "\n",
        "\n",
        "- **Note1**. The inverse exists iff elimination producs n pivots = 대각원소 not zero.\n",
        "　　　(row exchanges are allowed)\n",
        "\n",
        "\n",
        "- **Note2**. The inverse matrix is unique.\n",
        "　　　(proof) when $A^{-1} = B\\ or\\ C$\n",
        "　　　　　　　　　$(BA)C = B(AC) ↔ C = B$\n",
        "\n",
        "\n",
        "- **Note3**. If $A$ in invertible, \n",
        "　　　$Ax = b$,　　$A^{-1}Ax = A^{-1}b ↔ x = A^{-1}b$ , 　　$x$ is **unique**\n",
        "\n",
        "\n",
        "- **Note4**. Assume there is a non-zero vector $x$ such that $Ax = 0$\n",
        "　　　 Then, $A$ can't have an Inverse. \n",
        "　　　 $Ax = 0$　→　$x = 0$ for invertible $A$,　 ($x=0$ is trivial solution)\n",
        "\n",
        "\n",
        "- **Note5**. $A = \\begin{bmatrix}a&b \\\\c&d\\end{bmatrix}$　→　$A^{-1} = {1 \\over ad-bc} \\begin{bmatrix}d&-b \\\\-c&a\\end{bmatrix}$\n",
        "　　　 Det A = $ad-bc \\ne 0$ 　→　invertible.\n",
        "\n",
        "\n",
        "- **Note6**. Diagomal matrix  ($\\prod_{i=1}^n d_i \\ne 0$ 일 때, Inverse 존재)\n",
        "\n",
        "　　　　　$A = \\begin{bmatrix} d_1&&& \\\\ &d_2&& \\\\ &&\\ddots&\\\\ \\ &&&d_n\\end{bmatrix}$　→　$A^{-1} = \\begin{bmatrix} 1/d_1&&& \\\\ &1/d_2&& \\\\ &&\\ddots&\\\\ \\ &&&1/d_n\\end{bmatrix}$\n",
        "\n",
        "\n",
        "- **Note7**. The inverse come in reverse order. \n",
        "　　　$(AB)^{-1} = B^{-1}A^{-1}$ \n",
        "　　　$(ABC)^{-1} = C^{-1}B^{-1}A^{-1}$"
      ]
    },
    {
      "cell_type": "markdown",
      "metadata": {
        "id": "zMsUomtv_Zt8"
      },
      "source": [
        "### *** Gauss-Jordan Method**\n",
        "\n",
        "- Calculation of $A^{-1}$\n",
        "\n",
        "- $AA^{-1} = I$\n",
        "\n",
        "- $A^{-1} = [x_1 x_2 \\cdots x_n]$\n",
        "\n",
        "- $AA^{-1} = [Ax_1 Ax_2 \\cdots Ax_n] = \\begin{bmatrix} 1&0&\\cdots&0 \\\\ 0&1&\\cdots&0\\\\ \\vdots&\\vdots&\\ddots&\\vdots \\\\0&0&0&1 \\end{bmatrix} = I$\n",
        "\n",
        "\n",
        "- 즉, **n개의 연립 방정식**으로 표현 가능하며, 이는 곧, **가우스 소거법**을 사용할 수 있다.\n",
        "\n",
        "---\n",
        "\n",
        "$$Ex. \\begin{bmatrix} 2 & 1 & 1 \\\\ 4 & -6 & 0 \\\\ -2 & 7 & 2\\end{bmatrix} \\begin{bmatrix} x_1 & x_2 & x_3 \\end{bmatrix} = \\begin{bmatrix} 1&0&0 \\\\ 0&1&0\\\\ 0&0&1 \\end{bmatrix}$$\n",
        "\n",
        "\n",
        "- $A = LU　↔　A^{-1} = U^{-1}L^{-1}$ \n",
        "\n",
        "  - $[A 　x_1 x_2 x_3] = \\begin{bmatrix} 2 & 1 & 1 && 1&0&0\\\\ 4 & -6 & 0 && 0&1&0\\\\ -2 & 7 & 2 && 0&0&1\\end{bmatrix}$\n",
        "\n",
        "  - $pivot (+2) \\rightarrow \\begin{bmatrix} 2 & 1 & 1 && 1&0&0\\\\ 0 & -8 & -2 && -2&1&0\\\\ 0 & 8 & 3 && 1&0&1\\end{bmatrix}$\n",
        "\n",
        "  - $pivot (-8) \\rightarrow \\begin{bmatrix} 2 & 1 & 1 && 1&0&0\\\\ 0 & -8 & -2 && -2&1&0\\\\ 0 & 0 & 1 && -1&1&1\\end{bmatrix}$　 $=　 [UL^{-1}]$　($L^{-1} = E_{32}E_{32}E_{21}$)\n",
        "\n",
        "  - $AA^{-1} = I　→　L^{-1}AA^{-1} = L^{-1}I　→　UA^{-1} = L^{-1}$\n",
        "\n",
        "  - $U^{-1}[U　L^{-1}]　=　[I　U^{-1}L^{-1}]　=　[I　A^{-1}]$\n",
        "\n",
        "  - $\\begin{cases}row1-row3 \\\\ row2+ 2row3 \\end{cases} \\rightarrow \\begin{bmatrix} 2 & 1 & 0 && 2&-1&-1\\\\ 0 & -8 & 0 && -4&3&2\\\\ 0 & 0 & 1 && -1&1&1\\end{bmatrix}$\n",
        "\n",
        "  - $row1 + 1/8row2 \\rightarrow \\begin{bmatrix} 2 & 0 & 0 && 3/2&-5/8&-3/4\\\\ 0 & -8 & 0 && -4&3&2\\\\ 0 & 0 & 1 && -1&1&1\\end{bmatrix}$\n",
        "\n",
        "  - divide by pivots $\\rightarrow \\begin{bmatrix} 1 & 0 & 0 && 3/2&-5/16&-3/8\\\\ 0 & 1 & 0 && 1/2&-3/8&-1/4\\\\ 0 & 0 & 1 && -1&1&1\\end{bmatrix}$　=　$[I　U^{-1}L^{-1}]$　=　$[I　A^{-1}]$\n",
        "\n",
        "\n",
        "- det $A$ = the product of the pivots $(2)\\cdot(-8)\\cdot(1) = -16$\n",
        "\n",
        "\n",
        "- Remark1　$LC = b$ and $Ux = c$ are better than $A^{-1}b = x$\n",
        "\n",
        "\n",
        "- Invertible = non-singular (n pivots)\n"
      ]
    },
    {
      "cell_type": "markdown",
      "metadata": {
        "id": "KMSNoFycHYiZ"
      },
      "source": [
        "### **2. Transpose Matrix**\n",
        "\n",
        "- $(A^T)_{ij}　=　A_{ij}$\n",
        "\n",
        "- $(A+B)^T　=　A^T + B^T$\n",
        "\n",
        "- $(AB)^T　=　B^TA^T$\n",
        "\n",
        "- $(A^{-1})^T　=　(A^T)^{-1}$\n",
        "  - $A^{-1}A　=　I$　↔　$(A^{-1}A)^T = I^T = I$ \n",
        "  　　　　　 　　　↔　$A^T(A^{-1})^T = I$ \n",
        "  　　　 　　　　　↔　$A^T(A^T)^{-1} = I$\n",
        "\n",
        "\n",
        "- **Symmetric Matrix (대칭 행렬)**\n",
        "  - $A^T　=　A$　→　square matrix\n",
        "  - $a_{ij}　=　a_{ji}$\n",
        "\n",
        "  - If $A$ is symmetric and invertible,　$A^{-1}$ is too.\n",
        "  　proof) $AA^{-1} = I　→　(AA^{-1})^T = I^T = I$ \n",
        " 　　　　　　　　　　　　　$(A^{-1})^TA = A^{-1}A = I$　→　$A^{-1} = (A^{-1})^T$ from symmetric\n",
        "\n",
        " - Suppose $A = A^T$,　$A = LDU$　→　$A^T\\ =\\ A\\ =\\ U^TD^TL^T\\ =\\ LDL^T\\ (L^T=U)$　→　가우스 소거법이 편하다.\n",
        "\n",
        " - by symmetricity, we reduce elimmation processes.\n",
        "\n",
        " - Symmetric Products $R^TR,\\ RR^T$ and $LDL^T$　→　$R^TR \\ne RR^T$\n",
        "  - $R$ = Correlation Matrix = $A^TA\\ =\\ R\\ =\\ R^T$\n",
        "  - Correlation ≒ Projection : 상대성분이 내 성분을 얼마나 갖고 있는가?\n",
        " "
      ]
    },
    {
      "cell_type": "markdown",
      "metadata": {
        "id": "zagngDeux_Ow"
      },
      "source": [
        "## **< Code > Inverse**\n",
        "\n",
        "- $n \\times n$ 정방 행렬에서의 Inverse.\n",
        "\n",
        "- $AA^{-1} = I$ 　→　Gaussian-Jordan Method.\n"
      ]
    },
    {
      "cell_type": "code",
      "metadata": {
        "id": "YRdZjzJh3CsT"
      },
      "source": [
        "def Inverse_nn(M) :\n",
        "  import numpy as np\n",
        "\n",
        "  M = M.astype(np.float)\n",
        "  I = np.eye(M = M.shape[0], N = M.shape[1]).astype(np.float)\n",
        "  N = np.concatenate((M, I), axis = 1).astype(np.float)\n",
        "\n",
        "  ### Gaussian Elimination\n",
        "  G = GE_nn(N)\n",
        "\n",
        "  ### G.E 결과로 역행렬 존재 유무 판별.\n",
        "  if np.sum(G[-1, :M.shape[1]]) == 0 :\n",
        "    return print(\"역행렬 없다.\")\n",
        "\n",
        "  else :\n",
        "    G[-1, :] = G[-1, :] / G[-1, M.shape[1]-1]\n",
        "\n",
        "    \n",
        "    ### Gaussian - Jordan Method 사용.\n",
        "    ### 행렬의 우변부터 좌변으로 이동하며 값 조정.\n",
        "    j = M.shape[1]-1\n",
        "    while j > 0 : \n",
        "      for i in range(0, j) :\n",
        "        G[i, : ] = G[i, : ] - (G[i, j]*G[j, :])\n",
        "      \n",
        "      G[j-1, : ] = G[j-1, : ] / G[j-1, j-1]\n",
        "      j -= 1\n",
        "        \n",
        "    Inv = G[ : , M.shape[1]: ]\n",
        "\n",
        "    return Inv"
      ],
      "execution_count": null,
      "outputs": []
    },
    {
      "cell_type": "markdown",
      "metadata": {
        "id": "RAtGATMBXFlI"
      },
      "source": [
        "### **- 역행렬 존재하는 경우**"
      ]
    },
    {
      "cell_type": "code",
      "metadata": {
        "colab": {
          "base_uri": "https://localhost:8080/"
        },
        "id": "d5V8hL2bx_Oz",
        "outputId": "c3c8ce07-b142-452b-f8e9-901365ee5595"
      },
      "source": [
        "import numpy as np\n",
        "A = np.asmatrix([[2, -5, 4], [1, -2, 1], [1, -4, 6]])\n",
        "\n",
        "print(\"A :\\n\", A)\n",
        "\n",
        "print(\"A^{-1} :\\n\", Inverse_nn(A))\n",
        "print(\"A^{-1}A :\\n\", Inverse_nn(A)*A)"
      ],
      "execution_count": null,
      "outputs": [
        {
          "output_type": "stream",
          "text": [
            "A :\n",
            " [[ 2 -5  4]\n",
            " [ 1 -2  1]\n",
            " [ 1 -4  6]]\n",
            "A^{-1} :\n",
            " [[-8. 14.  3.]\n",
            " [-5.  8.  2.]\n",
            " [-2.  3.  1.]]\n",
            "A^{-1}A :\n",
            " [[1. 0. 0.]\n",
            " [0. 1. 0.]\n",
            " [0. 0. 1.]]\n"
          ],
          "name": "stdout"
        }
      ]
    },
    {
      "cell_type": "code",
      "metadata": {
        "colab": {
          "base_uri": "https://localhost:8080/"
        },
        "id": "rgXUyK9AIpoy",
        "outputId": "ebafdaf7-8358-4c3f-8d55-a036edf2be10"
      },
      "source": [
        "import numpy as np\n",
        "A = np.asmatrix([[1, 1, 1], [2, 2, 5], [4, 6, 8]])\n",
        "\n",
        "print(\"A :\\n\", A)\n",
        "\n",
        "print(\"A^{-1} :\\n\", Inverse_nn(A))\n",
        "print(\"A^{-1}A :\\n\", np.round(Inverse_nn(A)*A, 5))"
      ],
      "execution_count": null,
      "outputs": [
        {
          "output_type": "stream",
          "text": [
            "A :\n",
            " [[1 1 1]\n",
            " [2 2 5]\n",
            " [4 6 8]]\n",
            "A^{-1} :\n",
            " [[ 2.33333333  0.33333333 -0.5       ]\n",
            " [-0.66666667 -0.66666667  0.5       ]\n",
            " [-0.66666667  0.33333333  0.        ]]\n",
            "A^{-1}A :\n",
            " [[ 1. -0. -0.]\n",
            " [ 0.  1.  0.]\n",
            " [ 0.  0.  1.]]\n"
          ],
          "name": "stdout"
        }
      ]
    },
    {
      "cell_type": "markdown",
      "metadata": {
        "id": "L4Z1B9nRXKSe"
      },
      "source": [
        "### **- 역행렬 존재하는 안하는 경우**"
      ]
    },
    {
      "cell_type": "code",
      "metadata": {
        "id": "mYRXmaCFvrNc",
        "colab": {
          "base_uri": "https://localhost:8080/"
        },
        "outputId": "f2cda772-c1df-47bc-99ef-a615a07f9086"
      },
      "source": [
        "import numpy as np\n",
        "A = np.asmatrix([[1, 1, 1], [0, 2, 2], [0, 4, 4]])\n",
        "print(\"A :\\n\", A)\n",
        "\n",
        "Inverse_nn(A)"
      ],
      "execution_count": null,
      "outputs": [
        {
          "output_type": "stream",
          "text": [
            "A :\n",
            " [[1 1 1]\n",
            " [0 2 2]\n",
            " [0 4 4]]\n",
            "역행렬 없다.\n"
          ],
          "name": "stdout"
        }
      ]
    }
  ]
}
